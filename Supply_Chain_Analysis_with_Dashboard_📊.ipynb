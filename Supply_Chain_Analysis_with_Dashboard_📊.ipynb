{
  "metadata": {
    "kernelspec": {
      "name": "python3",
      "display_name": "Python 3",
      "language": "python"
    },
    "language_info": {
      "name": "python",
      "version": "3.10.13",
      "mimetype": "text/x-python",
      "codemirror_mode": {
        "name": "ipython",
        "version": 3
      },
      "pygments_lexer": "ipython3",
      "nbconvert_exporter": "python",
      "file_extension": ".py"
    },
    "kaggle": {
      "accelerator": "none",
      "dataSources": [
        {
          "sourceId": 5490896,
          "sourceType": "datasetVersion",
          "datasetId": 3169086
        }
      ],
      "dockerImageVersionId": 30732,
      "isInternetEnabled": true,
      "language": "python",
      "sourceType": "notebook",
      "isGpuEnabled": false
    },
    "colab": {
      "name": "Supply Chain Analysis with Dashboard 📊",
      "provenance": []
    }
  },
  "nbformat_minor": 0,
  "nbformat": 4,
  "cells": [
    {
      "source": [
        "# IMPORTANT: RUN THIS CELL IN ORDER TO IMPORT YOUR KAGGLE DATA SOURCES,\n",
        "# THEN FEEL FREE TO DELETE THIS CELL.\n",
        "# NOTE: THIS NOTEBOOK ENVIRONMENT DIFFERS FROM KAGGLE'S PYTHON\n",
        "# ENVIRONMENT SO THERE MAY BE MISSING LIBRARIES USED BY YOUR\n",
        "# NOTEBOOK.\n",
        "import kagglehub\n",
        "harshsingh2209_supply_chain_analysis_path = kagglehub.dataset_download('harshsingh2209/supply-chain-analysis')\n",
        "\n",
        "print('Data source import complete.')\n"
      ],
      "metadata": {
        "id": "Um7Fv1KkSc58"
      },
      "cell_type": "code",
      "outputs": [],
      "execution_count": null
    },
    {
      "cell_type": "markdown",
      "source": [
        "---\n",
        "\n",
        "# Supply Chain Analysis: Data Exploration and Visualization\n",
        "\n",
        "## You going to see different types of plots I have used . Feel Free to explore them\n",
        "\n",
        "### Streamlit Dashboard:\n",
        "\n",
        "To complement the exploratory data analysis, I have created an interactive Streamlit dashboard. The dashboard provides real-time visualization and analysis of the supply chain data, making it easier to identify trends, patterns, and areas for improvement.\n",
        "\n",
        "## Dashboard Link: <a href = \"https://analyticsforfashionsupplymanagement.streamlit.app/\" style = \"color: pink\">Click Here To Explore The Dashboard</a>📊\n",
        "\n",
        "## Summary\n",
        "\n",
        "Welcome to this notebook where I dive deep into the analysis of supply chain data. This notebook focuses on key metrics essential for understanding the performance and efficiency of supply chain operations.\n",
        "\n",
        "### Objectives:\n",
        "\n",
        "- **Data Exploration**: Gain insights into the supply chain data by exploring production volumes, stock levels, order quantities, revenue, costs, lead times, shipping costs, transportation routes, risks, and sustainability factors.\n",
        "- **Visualization**: Create informative visualizations to better understand the relationships and distributions within the data.\n",
        "- **Dashboard Development**: Build an interactive Streamlit dashboard to visualize the key metrics and facilitate real-time analysis.\n",
        "\n",
        "### Key Sections:\n",
        "\n",
        "1. **Data Preprocessing**\n",
        "   - Handling missing values.\n",
        "   - Data cleaning and preparation.\n",
        "\n",
        "2. **Exploratory Data Analysis (EDA)**\n",
        "   - Descriptive statistics.\n",
        "   - Visualization of key metrics.\n",
        "\n",
        "3. **Visualizations**\n",
        "   - Production volumes, stock levels, and lead times.\n",
        "   - Revenue distribution by location.\n",
        "   - Manufacturing costs by supplier.\n",
        "   - Comparison of price and manufacturing costs by product type.\n",
        "   - Relationship between production volume, stock levels, and order quantities.\n",
        "   - Distribution of shipping costs by shipping carriers.\n",
        "   - Average lead time by product type.\n",
        "   - Transportation routes and their frequency.\n",
        "   - Supply chain risk distribution by risk factors.\n",
        "   - Sustainability factors in the supply chain.\n",
        "\n",
        "4. **Streamlit Dashboard**\n",
        "   - Introduction to the interactive dashboard.\n",
        "   - Instructions on how to access and use the dashboard.\n",
        "   - Link to the deployed Streamlit dashboard.\n",
        "---"
      ],
      "metadata": {
        "id": "1GuXs4KlSc6E"
      }
    },
    {
      "cell_type": "code",
      "source": [
        "!pip install duckdb"
      ],
      "metadata": {
        "_kg_hide-output": true,
        "execution": {
          "iopub.status.busy": "2024-06-15T12:52:05.083905Z",
          "iopub.execute_input": "2024-06-15T12:52:05.084327Z",
          "iopub.status.idle": "2024-06-15T12:52:23.588809Z",
          "shell.execute_reply.started": "2024-06-15T12:52:05.084289Z",
          "shell.execute_reply": "2024-06-15T12:52:23.587266Z"
        },
        "trusted": true,
        "id": "VyMAJR-MSc6I"
      },
      "execution_count": null,
      "outputs": []
    },
    {
      "cell_type": "code",
      "source": [
        "import pandas as pd\n",
        "import duckdb\n",
        "import plotly.graph_objects as go\n",
        "import plotly.express as px\n",
        "import warnings\n",
        "warnings.filterwarnings('ignore')"
      ],
      "metadata": {
        "execution": {
          "iopub.status.busy": "2024-06-15T12:52:23.591564Z",
          "iopub.execute_input": "2024-06-15T12:52:23.591995Z",
          "iopub.status.idle": "2024-06-15T12:52:25.014906Z",
          "shell.execute_reply.started": "2024-06-15T12:52:23.591956Z",
          "shell.execute_reply": "2024-06-15T12:52:25.013701Z"
        },
        "trusted": true,
        "id": "OxxHJJoFSc6I"
      },
      "execution_count": null,
      "outputs": []
    },
    {
      "cell_type": "code",
      "source": [
        "df = pd.read_csv('/kaggle/input/supply-chain-analysis/supply_chain_data.csv')\n",
        "\n",
        "df.head()"
      ],
      "metadata": {
        "execution": {
          "iopub.status.busy": "2024-06-15T12:52:25.016447Z",
          "iopub.execute_input": "2024-06-15T12:52:25.017119Z",
          "iopub.status.idle": "2024-06-15T12:52:25.081704Z",
          "shell.execute_reply.started": "2024-06-15T12:52:25.017074Z",
          "shell.execute_reply": "2024-06-15T12:52:25.080624Z"
        },
        "trusted": true,
        "id": "I8FCyBOISc6J"
      },
      "execution_count": null,
      "outputs": []
    },
    {
      "cell_type": "code",
      "source": [
        "df.columns"
      ],
      "metadata": {
        "execution": {
          "iopub.status.busy": "2024-06-15T12:52:25.083389Z",
          "iopub.execute_input": "2024-06-15T12:52:25.083852Z",
          "iopub.status.idle": "2024-06-15T12:52:25.092033Z",
          "shell.execute_reply.started": "2024-06-15T12:52:25.083812Z",
          "shell.execute_reply": "2024-06-15T12:52:25.090869Z"
        },
        "trusted": true,
        "id": "U4pnS-wwSc6K"
      },
      "execution_count": null,
      "outputs": []
    },
    {
      "cell_type": "code",
      "source": [
        "df.info()"
      ],
      "metadata": {
        "execution": {
          "iopub.status.busy": "2024-06-15T12:52:25.096038Z",
          "iopub.execute_input": "2024-06-15T12:52:25.096637Z",
          "iopub.status.idle": "2024-06-15T12:52:25.12343Z",
          "shell.execute_reply.started": "2024-06-15T12:52:25.096586Z",
          "shell.execute_reply": "2024-06-15T12:52:25.122117Z"
        },
        "trusted": true,
        "id": "GPB3zGWKSc6K"
      },
      "execution_count": null,
      "outputs": []
    },
    {
      "cell_type": "code",
      "source": [
        "df.isnull().sum()"
      ],
      "metadata": {
        "execution": {
          "iopub.status.busy": "2024-06-15T12:52:25.125333Z",
          "iopub.execute_input": "2024-06-15T12:52:25.125715Z",
          "iopub.status.idle": "2024-06-15T12:52:25.134893Z",
          "shell.execute_reply.started": "2024-06-15T12:52:25.125683Z",
          "shell.execute_reply": "2024-06-15T12:52:25.133615Z"
        },
        "trusted": true,
        "id": "CTO3w-afSc6L"
      },
      "execution_count": null,
      "outputs": []
    },
    {
      "cell_type": "code",
      "source": [
        "df.duplicated().sum()"
      ],
      "metadata": {
        "execution": {
          "iopub.status.busy": "2024-06-15T12:52:25.136418Z",
          "iopub.execute_input": "2024-06-15T12:52:25.136857Z",
          "iopub.status.idle": "2024-06-15T12:52:25.152106Z",
          "shell.execute_reply.started": "2024-06-15T12:52:25.136815Z",
          "shell.execute_reply": "2024-06-15T12:52:25.150923Z"
        },
        "trusted": true,
        "id": "IeyLRDs5Sc6N"
      },
      "execution_count": null,
      "outputs": []
    },
    {
      "cell_type": "code",
      "source": [
        "query = \"\"\"\n",
        "    SELECT SUM(\"Revenue generated\")::DECIMAL(8, 2) AS total_revenue\n",
        "    FROM df\n",
        "\"\"\"\n",
        "result = duckdb.query(query).df()\n",
        "\n",
        "print(result)"
      ],
      "metadata": {
        "execution": {
          "iopub.status.busy": "2024-06-15T12:52:25.153822Z",
          "iopub.execute_input": "2024-06-15T12:52:25.154298Z",
          "iopub.status.idle": "2024-06-15T12:52:25.17876Z",
          "shell.execute_reply.started": "2024-06-15T12:52:25.154247Z",
          "shell.execute_reply": "2024-06-15T12:52:25.17681Z"
        },
        "trusted": true,
        "id": "_3Q0r41vSc6P"
      },
      "execution_count": null,
      "outputs": []
    },
    {
      "cell_type": "code",
      "source": [
        "total_revenue = result['total_revenue'][0]\n",
        "\n",
        "fig = go.Figure()\n",
        "\n",
        "fig.add_trace(go.Indicator(\n",
        "    mode = \"number\",\n",
        "    value = total_revenue,\n",
        "    title = {\"text\": \"Total Revenue Generated\"},\n",
        "    number = {'prefix': \"$\", 'valueformat': \".2f\"},\n",
        "    domain = {'x': [0, 1], 'y': [0, 1]}\n",
        "))\n",
        "\n",
        "fig.update_layout(\n",
        "    font=dict(size=18),\n",
        "    font_color = 'white',\n",
        "    paper_bgcolor='rgba(0, 0, 0, 0)',\n",
        ")\n",
        "\n",
        "fig.show()"
      ],
      "metadata": {
        "execution": {
          "iopub.status.busy": "2024-06-15T12:52:25.180361Z",
          "iopub.execute_input": "2024-06-15T12:52:25.180854Z",
          "iopub.status.idle": "2024-06-15T12:52:25.57805Z",
          "shell.execute_reply.started": "2024-06-15T12:52:25.180808Z",
          "shell.execute_reply": "2024-06-15T12:52:25.576603Z"
        },
        "trusted": true,
        "id": "_j5rV4toSc6Q"
      },
      "execution_count": null,
      "outputs": []
    },
    {
      "cell_type": "code",
      "source": [
        "query = \"\"\"\n",
        "    SELECT \"Product Type\",\n",
        "           SUM(\"Revenue generated\")::DECIMAL(8, 2) AS total_revenue\n",
        "    FROM df\n",
        "    GROUP BY \"Product Type\"\n",
        "    ORDER BY total_revenue DESC\n",
        "\"\"\"\n",
        "result = duckdb.query(query).df()\n",
        "\n",
        "print(result)"
      ],
      "metadata": {
        "execution": {
          "iopub.status.busy": "2024-06-15T12:52:25.579635Z",
          "iopub.execute_input": "2024-06-15T12:52:25.580075Z",
          "iopub.status.idle": "2024-06-15T12:52:25.602882Z",
          "shell.execute_reply.started": "2024-06-15T12:52:25.580033Z",
          "shell.execute_reply": "2024-06-15T12:52:25.601583Z"
        },
        "trusted": true,
        "id": "oWNM-9n7Sc6R"
      },
      "execution_count": null,
      "outputs": []
    },
    {
      "cell_type": "code",
      "source": [
        "fig = px.bar(result,\n",
        "             x='Product type',\n",
        "             y='total_revenue',\n",
        "             title='Revenue Generated by Product Type',\n",
        "             labels={'total_revenue': 'Total Revenue ($)', 'Product Type': 'Product Type'})\n",
        "\n",
        "fig.update_layout(\n",
        "    xaxis_title=\"Product Type\",\n",
        "    yaxis_title=\"Total Revenue ($)\",\n",
        "    yaxis_tickprefix=\"$\",\n",
        "    yaxis_tickformat=\".2f\",\n",
        "    margin=dict(l=40, r=40, t=40, b=40),\n",
        "    font=dict(size=14),\n",
        "    font_color='white',\n",
        "    plot_bgcolor='rgba(0, 0, 0, 0)',\n",
        "    paper_bgcolor='rgba(0, 0, 0, 0)',\n",
        "    bargap=0,\n",
        "    bargroupgap=0.1\n",
        ")\n",
        "\n",
        "\n",
        "fig.update_traces(marker=dict(color=['#813cf6', '#15abbd', '#df9def']))\n",
        "fig.show()"
      ],
      "metadata": {
        "execution": {
          "iopub.status.busy": "2024-06-15T12:52:25.604436Z",
          "iopub.execute_input": "2024-06-15T12:52:25.604888Z",
          "iopub.status.idle": "2024-06-15T12:52:27.649526Z",
          "shell.execute_reply.started": "2024-06-15T12:52:25.604843Z",
          "shell.execute_reply": "2024-06-15T12:52:27.648229Z"
        },
        "trusted": true,
        "id": "ZL0V9YrBSc6R"
      },
      "execution_count": null,
      "outputs": []
    },
    {
      "cell_type": "code",
      "source": [
        "query = \"\"\"\n",
        "    SELECT \"location\",\n",
        "           SUM(\"Revenue generated\")::DECIMAL(8, 2) AS total_revenue\n",
        "    FROM df\n",
        "    GROUP BY \"location\"\n",
        "    ORDER BY total_revenue DESC\n",
        "\"\"\"\n",
        "result = duckdb.query(query).df()\n",
        "\n",
        "print(result)"
      ],
      "metadata": {
        "execution": {
          "iopub.status.busy": "2024-06-15T12:52:27.650946Z",
          "iopub.execute_input": "2024-06-15T12:52:27.651298Z",
          "iopub.status.idle": "2024-06-15T12:52:27.677802Z",
          "shell.execute_reply.started": "2024-06-15T12:52:27.651268Z",
          "shell.execute_reply": "2024-06-15T12:52:27.676194Z"
        },
        "trusted": true,
        "id": "wZeveFIcSc6S"
      },
      "execution_count": null,
      "outputs": []
    },
    {
      "cell_type": "code",
      "source": [
        "fig = px.pie(result,\n",
        "             values='total_revenue',\n",
        "             names='Location',\n",
        "             title='Revenue Distribution by Location',\n",
        "             labels={'total_revenue': 'Total Revenue ($)', 'Location': 'Location'},\n",
        "             hover_name='Location',\n",
        "             hover_data={'total_revenue': ':,.2f'}\n",
        "            )\n",
        "\n",
        "fig.update_layout(\n",
        "    margin=dict(l=40, r=40, t=40, b=40),\n",
        "    font=dict(size=14, color='white'),\n",
        "    plot_bgcolor='rgba(0, 0, 0, 0)',\n",
        "    paper_bgcolor='rgba(0, 0, 0, 0)',\n",
        ")\n",
        "\n",
        "fig.update_traces(marker=dict(colors=['#d62728', '#e377c2', '#ff7f0e', '#ffbb78', '#ff9896']))\n",
        "\n",
        "fig.update_layout(\n",
        "    showlegend=True,\n",
        "    legend=dict(\n",
        "        title='Location',\n",
        "        orientation='v',\n",
        "        yanchor='top',\n",
        "        y=1,\n",
        "        xanchor='left',\n",
        "        x=0\n",
        "    )\n",
        ")\n",
        "\n",
        "fig.show()"
      ],
      "metadata": {
        "execution": {
          "iopub.status.busy": "2024-06-15T12:52:27.680029Z",
          "iopub.execute_input": "2024-06-15T12:52:27.681025Z",
          "iopub.status.idle": "2024-06-15T12:52:27.846568Z",
          "shell.execute_reply.started": "2024-06-15T12:52:27.680973Z",
          "shell.execute_reply": "2024-06-15T12:52:27.845368Z"
        },
        "trusted": true,
        "id": "RPHsBivvSc6S"
      },
      "execution_count": null,
      "outputs": []
    },
    {
      "cell_type": "code",
      "source": [
        "query = \"\"\"\n",
        "    SELECT \"location\",\n",
        "           SUM(\"Revenue generated\") AS total_revenue\n",
        "    FROM df\n",
        "    GROUP BY \"location\"\n",
        "    ORDER BY total_revenue DESC\n",
        "\"\"\"\n",
        "result = duckdb.query(query).df()\n",
        "\n",
        "result['percentage_contribution'] = (result['total_revenue'] / result['total_revenue'].sum()) * 100\n",
        "\n",
        "result['percentage_contribution'] = result['percentage_contribution'].round(2)\n",
        "\n",
        "result = result.sort_values(by='total_revenue', ascending=False)\n",
        "print(result)"
      ],
      "metadata": {
        "execution": {
          "iopub.status.busy": "2024-06-15T12:52:27.853368Z",
          "iopub.execute_input": "2024-06-15T12:52:27.853795Z",
          "iopub.status.idle": "2024-06-15T12:52:27.884879Z",
          "shell.execute_reply.started": "2024-06-15T12:52:27.853763Z",
          "shell.execute_reply": "2024-06-15T12:52:27.883573Z"
        },
        "trusted": true,
        "id": "siud8ec5Sc6T"
      },
      "execution_count": null,
      "outputs": []
    },
    {
      "cell_type": "code",
      "source": [
        "fig = px.bar(result,\n",
        "             x='Location',\n",
        "             y='percentage_contribution',\n",
        "             title='Percentage Contribution of Revenue by Location',\n",
        "             labels={'percentage_contribution': 'Percentage of Total Revenue (%)', 'Location': 'Location'})\n",
        "\n",
        "fig.update_layout(\n",
        "    xaxis_title=\"Location\",\n",
        "    yaxis_title=\"Percentage of Total Revenue (%)\",\n",
        "    yaxis_tickformat=\".2f\",\n",
        "    margin=dict(l=40, r=40, t=40, b=40),\n",
        "    font=dict(size=14),\n",
        "    font_color='white',\n",
        "    plot_bgcolor='rgba(0, 0, 0, 0)',\n",
        "    paper_bgcolor='rgba(0, 0, 0, 0)',\n",
        "    bargap=0.2,\n",
        "    bargroupgap=0.1\n",
        ")\n",
        "\n",
        "\n",
        "fig.update_traces(marker=dict(color=['#8808f3', '#cc1b1a', '#265f01', '#6ee377', '#4dc640']))\n",
        "fig.show()"
      ],
      "metadata": {
        "execution": {
          "iopub.status.busy": "2024-06-15T12:52:27.886507Z",
          "iopub.execute_input": "2024-06-15T12:52:27.887013Z",
          "iopub.status.idle": "2024-06-15T12:52:27.980528Z",
          "shell.execute_reply.started": "2024-06-15T12:52:27.886962Z",
          "shell.execute_reply": "2024-06-15T12:52:27.979348Z"
        },
        "trusted": true,
        "id": "wNNm8rkGSc6T"
      },
      "execution_count": null,
      "outputs": []
    },
    {
      "cell_type": "code",
      "source": [
        "query = \"\"\"\n",
        "    SELECT\n",
        "        SUM(\"stock levels\") AS \"Stock Levels\",\n",
        "        SUM(\"Lead Times\") AS \"Lead Times\"\n",
        "    FROM\n",
        "        df;\n",
        "\"\"\"\n",
        "\n",
        "result = duckdb.query(query).df()\n",
        "\n",
        "print(result)"
      ],
      "metadata": {
        "execution": {
          "iopub.status.busy": "2024-06-15T12:52:27.981987Z",
          "iopub.execute_input": "2024-06-15T12:52:27.982368Z",
          "iopub.status.idle": "2024-06-15T12:52:28.00126Z",
          "shell.execute_reply.started": "2024-06-15T12:52:27.982336Z",
          "shell.execute_reply": "2024-06-15T12:52:27.999848Z"
        },
        "trusted": true,
        "id": "4vOiqT70Sc6U"
      },
      "execution_count": null,
      "outputs": []
    },
    {
      "cell_type": "code",
      "source": [
        "total_stock_levels = result['Stock Levels'][0]\n",
        "total_lead_times = result['Lead Times'][0]\n",
        "\n",
        "fig_stock_levels = go.Figure(go.Indicator(\n",
        "    mode=\"number+gauge\",\n",
        "    value=total_stock_levels,\n",
        "    # title={'text': \"Total Stock Levels\"},\n",
        "    gauge={\n",
        "        'axis': {'range': [0, max(total_stock_levels, total_lead_times) + 100]},\n",
        "        'bar': {'color': \"rgba(31, 119, 180, 0.8)\"},\n",
        "        'steps': [\n",
        "            {'range': [0, max(total_stock_levels, total_lead_times) / 2], 'color': \"lightgray\"},\n",
        "            {'range': [max(total_stock_levels, total_lead_times) / 2, max(total_stock_levels, total_lead_times)], 'color': \"gray\"}\n",
        "        ],\n",
        "        'threshold': {\n",
        "            'line': {'color': \"red\", 'width': 4},\n",
        "            'thickness': 0.75,\n",
        "            'value': total_stock_levels\n",
        "        }\n",
        "    }\n",
        "))\n",
        "\n",
        "fig_stock_levels.update_layout(\n",
        "    title={'text': \"Total Stock Levels\", 'font': {'size': 20}},\n",
        "    font=dict(size=18, color='white'),\n",
        "    plot_bgcolor='rgba(0, 0, 0, 0)',\n",
        "    paper_bgcolor='rgba(0, 0, 0, 0)',\n",
        ")\n",
        "\n",
        "fig_lead_times = go.Figure(go.Indicator(\n",
        "    mode=\"number+gauge\",\n",
        "    value=total_lead_times,\n",
        "    # title={'text': \"Total Lead Times\"},\n",
        "    gauge={\n",
        "        'axis': {'range': [0, max(total_stock_levels, total_lead_times) + 100]},\n",
        "        'bar': {'color': \"rgba(214, 39, 40, 0.8)\"},\n",
        "        'steps': [\n",
        "            {'range': [0, max(total_stock_levels, total_lead_times) / 2], 'color': \"lightgray\"},\n",
        "            {'range': [max(total_stock_levels, total_lead_times) / 2, max(total_stock_levels, total_lead_times)], 'color': \"gray\"}\n",
        "        ],\n",
        "        'threshold': {\n",
        "            'line': {'color': \"red\", 'width': 4},\n",
        "            'thickness': 0.75,\n",
        "            'value': total_lead_times\n",
        "        }\n",
        "    }\n",
        "))\n",
        "\n",
        "fig_lead_times.update_layout(\n",
        "    title={'text': \"Total Lead Times\", 'font': {'size': 20}},\n",
        "    font=dict(size=18, color='white'),\n",
        "    plot_bgcolor='rgba(0, 0, 0, 0)',\n",
        "    paper_bgcolor='rgba(0, 0, 0, 0)',\n",
        ")\n",
        "\n",
        "fig_stock_levels.show()\n",
        "fig_lead_times.show()"
      ],
      "metadata": {
        "execution": {
          "iopub.status.busy": "2024-06-15T12:52:28.002661Z",
          "iopub.execute_input": "2024-06-15T12:52:28.002977Z",
          "iopub.status.idle": "2024-06-15T12:52:28.117776Z",
          "shell.execute_reply.started": "2024-06-15T12:52:28.00295Z",
          "shell.execute_reply": "2024-06-15T12:52:28.116148Z"
        },
        "trusted": true,
        "id": "bfoBqRIYSc6U"
      },
      "execution_count": null,
      "outputs": []
    },
    {
      "cell_type": "code",
      "source": [
        "query = \"\"\"\n",
        "    SELECT\n",
        "        SUM(\"Order quantities\") AS \"Total Orders Quantity\"\n",
        "    FROM\n",
        "        df;\n",
        "\"\"\"\n",
        "\n",
        "result = duckdb.query(query).fetchall()\n",
        "\n",
        "total_orders_quantity = result[0][0]\n",
        "\n",
        "print(f\"The total quantity of orders placed is: {total_orders_quantity}\")\n"
      ],
      "metadata": {
        "execution": {
          "iopub.status.busy": "2024-06-15T12:52:28.119074Z",
          "iopub.execute_input": "2024-06-15T12:52:28.119462Z",
          "iopub.status.idle": "2024-06-15T12:52:28.141531Z",
          "shell.execute_reply.started": "2024-06-15T12:52:28.119428Z",
          "shell.execute_reply": "2024-06-15T12:52:28.139729Z"
        },
        "trusted": true,
        "id": "088ZjaZrSc6V"
      },
      "execution_count": null,
      "outputs": []
    },
    {
      "cell_type": "code",
      "source": [
        "total_orders_quantity = result[0][0]\n",
        "\n",
        "fig = go.Figure()\n",
        "\n",
        "fig.add_trace(go.Indicator(\n",
        "    mode=\"number\",\n",
        "    value=total_orders_quantity,\n",
        "    title={\"text\": \"Total Orders Quantity\"},\n",
        "    number={\"valueformat\": \",.0f\"}\n",
        "))\n",
        "\n",
        "fig.update_layout(\n",
        "    font=dict(size=18, color='white'),\n",
        "    margin=dict(l=20, r=20, t=80, b=20),\n",
        "    paper_bgcolor='rgba(0, 0, 0, 0)',\n",
        ")\n",
        "\n",
        "fig.show()"
      ],
      "metadata": {
        "execution": {
          "iopub.status.busy": "2024-06-15T12:52:28.142981Z",
          "iopub.execute_input": "2024-06-15T12:52:28.143388Z",
          "iopub.status.idle": "2024-06-15T12:52:28.165197Z",
          "shell.execute_reply.started": "2024-06-15T12:52:28.143354Z",
          "shell.execute_reply": "2024-06-15T12:52:28.163851Z"
        },
        "trusted": true,
        "id": "GwEFFuKLSc6V"
      },
      "execution_count": null,
      "outputs": []
    },
    {
      "cell_type": "code",
      "source": [
        "result = df.groupby('Location')['Order quantities'].sum().reset_index()\n",
        "\n",
        "result = result.sort_values(by='Order quantities', ascending=False)\n",
        "\n",
        "print(result)"
      ],
      "metadata": {
        "execution": {
          "iopub.status.busy": "2024-06-15T12:52:28.166662Z",
          "iopub.execute_input": "2024-06-15T12:52:28.167115Z",
          "iopub.status.idle": "2024-06-15T12:52:28.181886Z",
          "shell.execute_reply.started": "2024-06-15T12:52:28.167073Z",
          "shell.execute_reply": "2024-06-15T12:52:28.180556Z"
        },
        "trusted": true,
        "id": "Wyg985T4Sc6W"
      },
      "execution_count": null,
      "outputs": []
    },
    {
      "cell_type": "code",
      "source": [
        "fig = px.bar(result, x='Location', y='Order quantities',\n",
        "             title='Total Order Quantities by Location',\n",
        "             labels={'Location': 'Location', 'Order quantities': 'Total Order Quantities'},\n",
        "             color='Location',\n",
        "             color_discrete_sequence=px.colors.qualitative.Dark24,\n",
        "             )\n",
        "\n",
        "fig.update_layout(\n",
        "    xaxis_title=\"Location\",\n",
        "    yaxis_title=\"Total Order Quantities\",\n",
        "    font=dict(size=14,color='white'),\n",
        "    plot_bgcolor='rgba(0, 0, 0, 0)',\n",
        "    paper_bgcolor='rgba(0, 0, 0, 0)',\n",
        "    bargap=0.1,\n",
        ")\n",
        "\n",
        "fig.show()"
      ],
      "metadata": {
        "execution": {
          "iopub.status.busy": "2024-06-15T12:52:28.183622Z",
          "iopub.execute_input": "2024-06-15T12:52:28.183996Z",
          "iopub.status.idle": "2024-06-15T12:52:28.299361Z",
          "shell.execute_reply.started": "2024-06-15T12:52:28.183941Z",
          "shell.execute_reply": "2024-06-15T12:52:28.2981Z"
        },
        "trusted": true,
        "id": "GtqFZJbMSc6W"
      },
      "execution_count": null,
      "outputs": []
    },
    {
      "cell_type": "code",
      "source": [
        "costs_by_product = df.groupby('Product type')['Manufacturing costs'].sum().reset_index()\n",
        "\n",
        "costs_by_product['Manufacturing costs'] = costs_by_product['Manufacturing costs'].round(2)\n",
        "\n",
        "costs_by_product = costs_by_product.sort_values(by='Manufacturing costs', ascending=False)\n",
        "\n",
        "print(costs_by_product)"
      ],
      "metadata": {
        "execution": {
          "iopub.status.busy": "2024-06-15T12:52:28.301226Z",
          "iopub.execute_input": "2024-06-15T12:52:28.301701Z",
          "iopub.status.idle": "2024-06-15T12:52:28.319632Z",
          "shell.execute_reply.started": "2024-06-15T12:52:28.301648Z",
          "shell.execute_reply": "2024-06-15T12:52:28.317713Z"
        },
        "trusted": true,
        "id": "4cEJ7kR9Sc6X"
      },
      "execution_count": null,
      "outputs": []
    },
    {
      "cell_type": "code",
      "source": [
        "fig = px.bar(costs_by_product,\n",
        "             x='Product type',\n",
        "             y='Manufacturing costs',\n",
        "             title='Manufacturing Costs by Product Type',\n",
        "             labels={'Manufacturing costs': 'Manufacturing Costs ($)', 'Product type': 'Product Type'},\n",
        "             color='Product type',\n",
        "             color_discrete_sequence=px.colors.qualitative.Dark24_r\n",
        "            )\n",
        "\n",
        "fig.update_layout(\n",
        "    xaxis_title=\"Product Type\",\n",
        "    yaxis_title=\"Manufacturing Costs ($)\",\n",
        "    font=dict(size=14, color='White'),\n",
        "    plot_bgcolor='rgba(0, 0, 0, 0)',\n",
        "    paper_bgcolor='rgba(0, 0, 0, 0)',\n",
        "    bargap=0.1,\n",
        ")\n",
        "\n",
        "fig.show()"
      ],
      "metadata": {
        "execution": {
          "iopub.status.busy": "2024-06-15T12:52:28.324816Z",
          "iopub.execute_input": "2024-06-15T12:52:28.325315Z",
          "iopub.status.idle": "2024-06-15T12:52:28.445304Z",
          "shell.execute_reply.started": "2024-06-15T12:52:28.325261Z",
          "shell.execute_reply": "2024-06-15T12:52:28.443934Z"
        },
        "trusted": true,
        "id": "MUXRDxNPSc6X"
      },
      "execution_count": null,
      "outputs": []
    },
    {
      "cell_type": "code",
      "source": [
        "# Calculate sum of price and manufacturing costs for each product type\n",
        "price_costs_by_product = df.groupby('Product type').agg(\n",
        "    Price=('Price', 'sum'),\n",
        "    Manufacturing_costs=('Manufacturing costs', 'sum')\n",
        ").reset_index()\n",
        "\n",
        "# Format sums of price and manufacturing costs\n",
        "price_costs_by_product['Price'] = price_costs_by_product['Price'].round(2)\n",
        "price_costs_by_product['Manufacturing_costs'] = price_costs_by_product['Manufacturing_costs'].round(2)\n",
        "\n",
        "# Calculate difference between price and manufacturing costs\n",
        "price_costs_by_product['Profit_margin'] = (price_costs_by_product['Price'] - price_costs_by_product['Manufacturing_costs']).round(2)\n",
        "\n",
        "price_costs_by_product = price_costs_by_product.sort_values(by='Product type')\n",
        "\n",
        "price_costs_by_product"
      ],
      "metadata": {
        "execution": {
          "iopub.status.busy": "2024-06-15T12:52:28.447265Z",
          "iopub.execute_input": "2024-06-15T12:52:28.447732Z",
          "iopub.status.idle": "2024-06-15T12:52:28.481425Z",
          "shell.execute_reply.started": "2024-06-15T12:52:28.447672Z",
          "shell.execute_reply": "2024-06-15T12:52:28.480051Z"
        },
        "trusted": true,
        "id": "C2GCo69rSc6X"
      },
      "execution_count": null,
      "outputs": []
    },
    {
      "cell_type": "code",
      "source": [
        "fig = px.bar(price_costs_by_product,\n",
        "             x='Product type',\n",
        "             y=['Price', 'Manufacturing_costs'],\n",
        "             title='Comparison of Price and Manufacturing Costs by Product Type',\n",
        "             labels={'value': 'Cost ($)', 'Product type': 'Product Type', 'variable': 'Cost Type'},\n",
        "             color_discrete_sequence=['#d62728', '#e377c2'],\n",
        "             barmode='group'\n",
        "            )\n",
        "\n",
        "for i, row in price_costs_by_product.iterrows():\n",
        "    fig.add_annotation(\n",
        "        x=row['Product type'],\n",
        "        y=row['Price'] + 5,\n",
        "        text=f\"Profit Margin: ${row['Profit_margin']}\",\n",
        "        showarrow=False,\n",
        "        font=dict(size=10, color='White'),\n",
        "    )\n",
        "\n",
        "fig.update_layout(\n",
        "    xaxis_title=\"Product Type\",\n",
        "    yaxis_title=\"Cost ($)\",\n",
        "    font=dict(size=14, color='White'),\n",
        "    plot_bgcolor='rgba(0, 0, 0, 0)',\n",
        "    paper_bgcolor='rgba(0, 0, 0, 0)',\n",
        "    bargap=0.2,\n",
        ")\n",
        "\n",
        "fig.show()"
      ],
      "metadata": {
        "execution": {
          "iopub.status.busy": "2024-06-15T12:52:28.482919Z",
          "iopub.execute_input": "2024-06-15T12:52:28.483306Z",
          "iopub.status.idle": "2024-06-15T12:52:28.611115Z",
          "shell.execute_reply.started": "2024-06-15T12:52:28.483273Z",
          "shell.execute_reply": "2024-06-15T12:52:28.609666Z"
        },
        "trusted": true,
        "id": "wsN6tDdOSc6Y"
      },
      "execution_count": null,
      "outputs": []
    },
    {
      "cell_type": "code",
      "source": [
        "profitability_by_product = df.groupby('Product type').agg(\n",
        "    Revenue=('Revenue generated', 'sum'),\n",
        "    Cost=('Costs', 'sum')\n",
        ").reset_index()\n",
        "\n",
        "# Calculate profit (Revenue - Cost)\n",
        "profitability_by_product['Profit'] = (profitability_by_product['Revenue'] - profitability_by_product['Cost']).round(2)\n",
        "\n",
        "profitability_by_product = profitability_by_product.sort_values(by='Product type')\n",
        "profitability_by_product"
      ],
      "metadata": {
        "execution": {
          "iopub.status.busy": "2024-06-15T12:52:28.612395Z",
          "iopub.execute_input": "2024-06-15T12:52:28.612798Z",
          "iopub.status.idle": "2024-06-15T12:52:28.63803Z",
          "shell.execute_reply.started": "2024-06-15T12:52:28.612763Z",
          "shell.execute_reply": "2024-06-15T12:52:28.636782Z"
        },
        "trusted": true,
        "id": "bjTh1VtsSc6Y"
      },
      "execution_count": null,
      "outputs": []
    },
    {
      "cell_type": "code",
      "source": [
        "fig = px.bar(profitability_by_product,\n",
        "             x='Product type',\n",
        "             y='Profit',\n",
        "             title='Overall Profitability by Product Type',\n",
        "             labels={'Profit': 'Profit ($)', 'Product type': 'Product Type'},\n",
        "             color='Profit',\n",
        "             color_continuous_scale=px.colors.diverging.RdYlGn,\n",
        "            )\n",
        "\n",
        "fig.update_layout(\n",
        "    xaxis_title=\"Product Type\",\n",
        "    yaxis_title=\"Profit ($)\",\n",
        "    font=dict(size=14,color='white'),\n",
        "    plot_bgcolor='rgba(0, 0, 0, 0)',\n",
        "    paper_bgcolor='rgba(0, 0, 0, 0)',\n",
        "    bargap=0.1,\n",
        ")\n",
        "\n",
        "\n",
        "fig.show()"
      ],
      "metadata": {
        "execution": {
          "iopub.status.busy": "2024-06-15T12:52:28.639569Z",
          "iopub.execute_input": "2024-06-15T12:52:28.639914Z",
          "iopub.status.idle": "2024-06-15T12:52:28.751392Z",
          "shell.execute_reply.started": "2024-06-15T12:52:28.639882Z",
          "shell.execute_reply": "2024-06-15T12:52:28.750156Z"
        },
        "trusted": true,
        "id": "6AHse97_Sc6Z"
      },
      "execution_count": null,
      "outputs": []
    },
    {
      "cell_type": "code",
      "source": [
        "# Calculate average lead time for each product type\n",
        "average_lead_time_by_product = df.groupby('Product type')['Lead times'].mean().reset_index()\n",
        "\n",
        "# Format the average lead time to 4 decimal places\n",
        "average_lead_time_by_product['Average Lead Time'] = average_lead_time_by_product['Lead times'].round(2)\n",
        "\n",
        "average_lead_time_by_product = average_lead_time_by_product.sort_values(by='Product type')\n",
        "\n",
        "average_lead_time_by_product"
      ],
      "metadata": {
        "execution": {
          "iopub.status.busy": "2024-06-15T12:52:28.752914Z",
          "iopub.execute_input": "2024-06-15T12:52:28.753333Z",
          "iopub.status.idle": "2024-06-15T12:52:28.77262Z",
          "shell.execute_reply.started": "2024-06-15T12:52:28.753301Z",
          "shell.execute_reply": "2024-06-15T12:52:28.771271Z"
        },
        "trusted": true,
        "id": "_5f2s-2KSc6Z"
      },
      "execution_count": null,
      "outputs": []
    },
    {
      "cell_type": "code",
      "source": [
        "fig = px.bar(average_lead_time_by_product,\n",
        "             x='Product type',\n",
        "             y='Average Lead Time',\n",
        "             title='Average Lead Time by Product Type',\n",
        "             labels={'Average Lead Time': 'Average Lead Time (days)', 'Product type': 'Product Type'},\n",
        "             color='Average Lead Time',\n",
        "             color_continuous_scale='viridis',\n",
        "            )\n",
        "\n",
        "fig.update_layout(\n",
        "    xaxis_title=\"Product Type\",\n",
        "    yaxis_title=\"Average Lead Time (days)\",\n",
        "    font=dict(size=14,color='white'),\n",
        "    plot_bgcolor='rgba(0, 0, 0, 0)',\n",
        "    paper_bgcolor='rgba(0, 0, 0, 0)',\n",
        "    bargap=0.1,\n",
        ")\n",
        "\n",
        "fig.show()"
      ],
      "metadata": {
        "execution": {
          "iopub.status.busy": "2024-06-15T12:52:28.774511Z",
          "iopub.execute_input": "2024-06-15T12:52:28.775033Z",
          "iopub.status.idle": "2024-06-15T12:52:28.865652Z",
          "shell.execute_reply.started": "2024-06-15T12:52:28.774997Z",
          "shell.execute_reply": "2024-06-15T12:52:28.864295Z"
        },
        "trusted": true,
        "id": "g1WpZUHkSc6a"
      },
      "execution_count": null,
      "outputs": []
    },
    {
      "cell_type": "code",
      "source": [
        "total_lead_times = df['Lead times'].sum()\n",
        "total_stock_levels = df['Stock levels'].sum()\n",
        "total_availability = df['Availability'].sum()\n",
        "\n",
        "print(f\"Total Lead Times: {total_lead_times}\")\n",
        "print(f\"Total Stock Levels: {total_stock_levels}\")\n",
        "print(f\"Total Availability: {total_availability}\")"
      ],
      "metadata": {
        "execution": {
          "iopub.status.busy": "2024-06-15T12:52:28.867153Z",
          "iopub.execute_input": "2024-06-15T12:52:28.867548Z",
          "iopub.status.idle": "2024-06-15T12:52:28.875311Z",
          "shell.execute_reply.started": "2024-06-15T12:52:28.867517Z",
          "shell.execute_reply": "2024-06-15T12:52:28.874002Z"
        },
        "trusted": true,
        "id": "CM5jf7e9Sc6a"
      },
      "execution_count": null,
      "outputs": []
    },
    {
      "cell_type": "code",
      "source": [
        "fig = go.Figure()\n",
        "\n",
        "fig.add_trace(go.Indicator(\n",
        "    mode=\"number\",\n",
        "    value=total_availability,\n",
        "    title={\"text\": \"Total Availability\"},\n",
        "    domain={'x': [0, 1], 'y': [0, 1]}\n",
        "))\n",
        "\n",
        "fig.update_layout(\n",
        "    font=dict(size=18, color='white'),\n",
        "    plot_bgcolor='rgba(0, 0, 0, 0)',\n",
        "    paper_bgcolor='rgba(0, 0, 0, 0)',\n",
        "\n",
        ")\n",
        "\n",
        "fig.show()"
      ],
      "metadata": {
        "execution": {
          "iopub.status.busy": "2024-06-15T12:52:28.876823Z",
          "iopub.execute_input": "2024-06-15T12:52:28.877218Z",
          "iopub.status.idle": "2024-06-15T12:52:28.898472Z",
          "shell.execute_reply.started": "2024-06-15T12:52:28.877158Z",
          "shell.execute_reply": "2024-06-15T12:52:28.897267Z"
        },
        "trusted": true,
        "id": "euae7OPlSc6b"
      },
      "execution_count": null,
      "outputs": []
    },
    {
      "cell_type": "code",
      "source": [
        "sum_defect_rates = df.groupby('Inspection results')['Defect rates'].sum().reset_index()\n",
        "total_defect_rate = df['Defect rates'].sum()\n",
        "\n",
        "# Calculate the percentage contribution of each inspection result's defect rate\n",
        "sum_defect_rates['Percentage of Total Defect Rate'] = \\\n",
        "    (sum_defect_rates['Defect rates'] / total_defect_rate) * 100\n",
        "\n",
        "# Calculate the average defect rate for each inspection result\n",
        "avg_defect_rate = df.groupby('Inspection results')['Defect rates'].mean().reset_index()\n",
        "\n",
        "# Merge the results and order by 'Defect Rates'\n",
        "result = pd.merge(sum_defect_rates, avg_defect_rate, on='Inspection results', suffixes=('_sum', '_avg'))\n",
        "result = result.sort_values(by='Defect rates_sum', ascending=False)\n",
        "\n",
        "result"
      ],
      "metadata": {
        "execution": {
          "iopub.status.busy": "2024-06-15T12:52:28.900017Z",
          "iopub.execute_input": "2024-06-15T12:52:28.900432Z",
          "iopub.status.idle": "2024-06-15T12:52:28.928844Z",
          "shell.execute_reply.started": "2024-06-15T12:52:28.9004Z",
          "shell.execute_reply": "2024-06-15T12:52:28.927434Z"
        },
        "trusted": true,
        "id": "Rt3-5b23Sc6c"
      },
      "execution_count": null,
      "outputs": []
    },
    {
      "cell_type": "code",
      "source": [
        "fig = px.sunburst(result, path=['Inspection results'], values='Defect rates_sum',\n",
        "                  hover_data=['Percentage of Total Defect Rate', 'Defect rates_avg'],\n",
        "                  title='Defect Rates by Inspection Results (Sunburst Chart)',\n",
        "                  color='Defect rates_sum',\n",
        "                  color_continuous_scale='RdBu')\n",
        "\n",
        "fig.update_layout(\n",
        "    font=dict(size=14, color='white'),\n",
        "    plot_bgcolor='rgba(0, 0, 0, 0)',\n",
        "    paper_bgcolor='rgba(0, 0, 0, 0)',\n",
        ")\n",
        "fig.show()"
      ],
      "metadata": {
        "execution": {
          "iopub.status.busy": "2024-06-15T12:52:28.930325Z",
          "iopub.execute_input": "2024-06-15T12:52:28.930697Z",
          "iopub.status.idle": "2024-06-15T12:52:29.076898Z",
          "shell.execute_reply.started": "2024-06-15T12:52:28.930666Z",
          "shell.execute_reply": "2024-06-15T12:52:29.075546Z"
        },
        "trusted": true,
        "id": "SrDYaAapSc6c"
      },
      "execution_count": null,
      "outputs": []
    },
    {
      "cell_type": "code",
      "source": [
        "mode_counts = df['Transportation modes'].value_counts()\n",
        "\n",
        "fig = go.Figure()\n",
        "\n",
        "fig.add_trace(go.Pie(\n",
        "    labels=mode_counts.index,\n",
        "    values=mode_counts.values,\n",
        "    textinfo='percent+label',\n",
        "    marker_colors=['#1f77b4', '#ff7f0e', '#2ca02c', '#d62728'],\n",
        "    textposition='inside',\n",
        "    hole=0.3\n",
        "))\n",
        "\n",
        "fig.update_layout(\n",
        "    title='Frequency of Transportation Modes',\n",
        "    font=dict(size=14, color='white'),\n",
        "    plot_bgcolor='rgba(0, 0, 0, 0)',\n",
        "    paper_bgcolor='rgba(0, 0, 0, 0)',\n",
        "\n",
        ")\n",
        "\n",
        "fig.show()\n"
      ],
      "metadata": {
        "execution": {
          "iopub.status.busy": "2024-06-15T12:52:29.078332Z",
          "iopub.execute_input": "2024-06-15T12:52:29.078685Z",
          "iopub.status.idle": "2024-06-15T12:52:29.107317Z",
          "shell.execute_reply.started": "2024-06-15T12:52:29.078654Z",
          "shell.execute_reply": "2024-06-15T12:52:29.105913Z"
        },
        "trusted": true,
        "id": "OI8wEbaGSc6d"
      },
      "execution_count": null,
      "outputs": []
    },
    {
      "cell_type": "code",
      "source": [
        "mode_summary = df.groupby('Transportation modes').agg({\n",
        "    'Lead times': 'sum',\n",
        "    'Costs': 'sum'\n",
        "}).reset_index()\n",
        "\n",
        "print(mode_summary)"
      ],
      "metadata": {
        "execution": {
          "iopub.status.busy": "2024-06-15T12:52:29.108477Z",
          "iopub.execute_input": "2024-06-15T12:52:29.108816Z",
          "iopub.status.idle": "2024-06-15T12:52:29.122785Z",
          "shell.execute_reply.started": "2024-06-15T12:52:29.108787Z",
          "shell.execute_reply": "2024-06-15T12:52:29.121355Z"
        },
        "trusted": true,
        "id": "iIR_kgEOSc6d"
      },
      "execution_count": null,
      "outputs": []
    },
    {
      "cell_type": "code",
      "source": [
        "fig = go.Figure()\n",
        "\n",
        "fig.add_trace(go.Scatter(\n",
        "    x=mode_summary['Lead times'],\n",
        "    y=mode_summary['Costs'],\n",
        "    mode='markers',\n",
        "    marker=dict(color='blue', size=12),\n",
        "    text=mode_summary['Transportation modes'],\n",
        "    hovertemplate='<b>Transport Mode</b>: %{text}<br><b>Lead Time</b>: %{x}<br><b>Cost</b>: %{y}',\n",
        "))\n",
        "\n",
        "fig.update_layout(\n",
        "    title='Relationship Between Transportation Modes, Lead Time, and Costs',\n",
        "    xaxis_title='Lead Time',\n",
        "    yaxis_title='Costs',\n",
        "    font=dict(size=14, color='white'),\n",
        "    plot_bgcolor='rgba(0, 0, 0, 0)',\n",
        "    paper_bgcolor='rgba(0, 0, 0, 0)',\n",
        ")\n",
        "\n",
        "fig.show()"
      ],
      "metadata": {
        "execution": {
          "iopub.status.busy": "2024-06-15T12:52:29.124357Z",
          "iopub.execute_input": "2024-06-15T12:52:29.124813Z",
          "iopub.status.idle": "2024-06-15T12:52:29.175987Z",
          "shell.execute_reply.started": "2024-06-15T12:52:29.124771Z",
          "shell.execute_reply": "2024-06-15T12:52:29.174644Z"
        },
        "trusted": true,
        "id": "Y_GuMSAnSc6e"
      },
      "execution_count": null,
      "outputs": []
    },
    {
      "cell_type": "code",
      "source": [
        "route_counts = df['Routes'].value_counts()\n",
        "\n",
        "route_counts_df = route_counts.reset_index()\n",
        "route_counts_df.columns = ['Routes', 'Count']\n",
        "\n",
        "fig = px.scatter(route_counts_df, x='Routes', y='Count', size='Count', hover_name='Routes',\n",
        "                 title='Bubble Chart of Transportation Routes with Count',\n",
        "                 labels={'Routes': 'Transportation Routes', 'Count': 'Frequency'},\n",
        "                 size_max=60)\n",
        "\n",
        "fig.update_layout(\n",
        "    showlegend=False,\n",
        "    xaxis_title=\"Transportation Routes\",\n",
        "    yaxis_title=\"Frequency\",\n",
        "    font=dict(size=14, color='white'),\n",
        "    plot_bgcolor='rgba(0, 0, 0, 0)',\n",
        "    paper_bgcolor='rgba(0, 0, 0, 0)',\n",
        ")\n",
        "fig.show()"
      ],
      "metadata": {
        "execution": {
          "iopub.status.busy": "2024-06-15T12:52:29.177493Z",
          "iopub.execute_input": "2024-06-15T12:52:29.17795Z",
          "iopub.status.idle": "2024-06-15T12:52:29.282868Z",
          "shell.execute_reply.started": "2024-06-15T12:52:29.177908Z",
          "shell.execute_reply": "2024-06-15T12:52:29.281745Z"
        },
        "trusted": true,
        "id": "j092wsSbSc6e"
      },
      "execution_count": null,
      "outputs": []
    },
    {
      "cell_type": "code",
      "source": [
        "# Group by 'Routes' and calculate sum of 'Lead times' and 'Costs'\n",
        "route_summary = df.groupby('Routes').agg({'Lead times': 'sum', 'Costs': 'sum'}).reset_index()\n",
        "route_summary = route_summary.sort_values(by='Lead times', ascending=False)\n",
        "\n",
        "route_summary"
      ],
      "metadata": {
        "execution": {
          "iopub.status.busy": "2024-06-15T12:52:29.284276Z",
          "iopub.execute_input": "2024-06-15T12:52:29.28463Z",
          "iopub.status.idle": "2024-06-15T12:52:29.30191Z",
          "shell.execute_reply.started": "2024-06-15T12:52:29.284592Z",
          "shell.execute_reply": "2024-06-15T12:52:29.300637Z"
        },
        "trusted": true,
        "id": "t7Y1RluoSc6o"
      },
      "execution_count": null,
      "outputs": []
    },
    {
      "cell_type": "code",
      "source": [
        "route_summary = df.groupby('Routes').agg({'Lead times': 'sum', 'Costs': 'sum'}).reset_index()\n",
        "\n",
        "route_summary = route_summary.sort_values(by='Lead times', ascending=False)\n",
        "\n",
        "route_summary['Costs'] = route_summary['Costs'].round(2)\n",
        "\n",
        "fig = px.parallel_categories(\n",
        "    route_summary,\n",
        "    dimensions=['Routes', 'Lead times', 'Costs'],\n",
        "    color='Lead times',\n",
        "    title='Impact of Routes on Lead Times and Costs',\n",
        "    color_continuous_scale=px.colors.diverging.Tealrose\n",
        ")\n",
        "\n",
        "fig.update_layout(\n",
        "    font=dict(size=14, color='white'),\n",
        "    plot_bgcolor='rgba(0, 0, 0, 0)',\n",
        "    paper_bgcolor='rgba(0, 0, 0, 0)',\n",
        ")\n",
        "\n",
        "fig.show()\n"
      ],
      "metadata": {
        "execution": {
          "iopub.status.busy": "2024-06-15T12:52:29.303968Z",
          "iopub.execute_input": "2024-06-15T12:52:29.304382Z",
          "iopub.status.idle": "2024-06-15T12:52:29.425433Z",
          "shell.execute_reply.started": "2024-06-15T12:52:29.304347Z",
          "shell.execute_reply": "2024-06-15T12:52:29.423947Z"
        },
        "trusted": true,
        "id": "EPPFES4dSc6p"
      },
      "execution_count": null,
      "outputs": []
    },
    {
      "cell_type": "code",
      "source": [
        "average_defect_rate = df.groupby('Product type').agg({'Defect rates': 'mean'}).reset_index()\n",
        "\n",
        "average_defect_rate['Defect rates'] = average_defect_rate['Defect rates'].round(2)\n",
        "\n",
        "average_defect_rate.columns = ['Product Type', 'Average Defect Rate']\n",
        "\n",
        "print(average_defect_rate)"
      ],
      "metadata": {
        "execution": {
          "iopub.status.busy": "2024-06-15T12:52:29.42683Z",
          "iopub.execute_input": "2024-06-15T12:52:29.427241Z",
          "iopub.status.idle": "2024-06-15T12:52:29.440303Z",
          "shell.execute_reply.started": "2024-06-15T12:52:29.427169Z",
          "shell.execute_reply": "2024-06-15T12:52:29.438941Z"
        },
        "trusted": true,
        "id": "8ElsnkrTSc6p"
      },
      "execution_count": null,
      "outputs": []
    },
    {
      "cell_type": "code",
      "source": [
        "fig = px.pie(\n",
        "    average_defect_rate,\n",
        "    names='Product Type',\n",
        "    values='Average Defect Rate',\n",
        "    title='Average Defect Rate by Product Type',\n",
        "    color_discrete_sequence=px.colors.qualitative.Pastel\n",
        ")\n",
        "\n",
        "fig.update_layout(\n",
        "    font=dict(size=14,color='white'),\n",
        "    showlegend=True,\n",
        "    legend_title_text='Product Type',\n",
        "    plot_bgcolor='rgba(0, 0, 0, 0)',\n",
        "    paper_bgcolor='rgba(0, 0, 0, 0)',\n",
        ")\n",
        "\n",
        "fig.show()"
      ],
      "metadata": {
        "execution": {
          "iopub.status.busy": "2024-06-15T12:52:29.449361Z",
          "iopub.execute_input": "2024-06-15T12:52:29.449824Z",
          "iopub.status.idle": "2024-06-15T12:52:29.520866Z",
          "shell.execute_reply.started": "2024-06-15T12:52:29.449788Z",
          "shell.execute_reply": "2024-06-15T12:52:29.519496Z"
        },
        "trusted": true,
        "id": "XimYGXIGSc6p"
      },
      "execution_count": null,
      "outputs": []
    },
    {
      "cell_type": "code",
      "source": [
        "cost_summary = df.groupby('Inspection results').agg({'Manufacturing costs': 'sum'}).reset_index()\n",
        "\n",
        "total_costs = cost_summary['Manufacturing costs'].sum()\n",
        "\n",
        "cost_summary['Percentage Contribution'] = (cost_summary['Manufacturing costs'] / total_costs * 100).round(2)\n",
        "\n",
        "cost_summary['Manufacturing costs'] = cost_summary['Manufacturing costs'].astype(float).round(2)\n",
        "cost_summary['Percentage Contribution'] = cost_summary['Percentage Contribution'].astype(float).round(2)\n",
        "\n",
        "cost_summary = cost_summary.sort_values(by='Manufacturing costs', ascending=False)\n",
        "\n",
        "print(cost_summary)"
      ],
      "metadata": {
        "execution": {
          "iopub.status.busy": "2024-06-15T12:52:29.522124Z",
          "iopub.execute_input": "2024-06-15T12:52:29.522486Z",
          "iopub.status.idle": "2024-06-15T12:52:29.538625Z",
          "shell.execute_reply.started": "2024-06-15T12:52:29.522455Z",
          "shell.execute_reply": "2024-06-15T12:52:29.537393Z"
        },
        "trusted": true,
        "id": "6EN3IvAISc6q"
      },
      "execution_count": null,
      "outputs": []
    },
    {
      "cell_type": "code",
      "source": [
        "fig = px.pie(\n",
        "    cost_summary,\n",
        "    names='Inspection results',\n",
        "    values='Manufacturing costs',\n",
        "    title='Manufacturing Costs by Inspection Results',\n",
        "    color_discrete_sequence=px.colors.qualitative.Pastel1\n",
        ")\n",
        "\n",
        "fig.update_traces(\n",
        "    hoverinfo='label+value+percent',\n",
        "    textinfo='value+percent'\n",
        ")\n",
        "\n",
        "fig.update_layout(\n",
        "    font=dict(size=14,color='white'),\n",
        "    showlegend=True,\n",
        "    legend_title_text='Inspection Results',\n",
        "    plot_bgcolor='rgba(0, 0, 0, 0)',\n",
        "    paper_bgcolor='rgba(0, 0, 0, 0)',\n",
        ")\n",
        "\n",
        "fig.show()"
      ],
      "metadata": {
        "execution": {
          "iopub.status.busy": "2024-06-15T12:52:29.540349Z",
          "iopub.execute_input": "2024-06-15T12:52:29.540815Z",
          "iopub.status.idle": "2024-06-15T12:52:29.615613Z",
          "shell.execute_reply.started": "2024-06-15T12:52:29.540771Z",
          "shell.execute_reply": "2024-06-15T12:52:29.614408Z"
        },
        "trusted": true,
        "id": "ITB4OVWlSc6q"
      },
      "execution_count": null,
      "outputs": []
    },
    {
      "cell_type": "code",
      "source": [
        "total_production_volumes = df['Production volumes'].sum()\n",
        "total_stock_levels = df['Stock levels'].sum()\n",
        "total_order_quantities = df['Order quantities'].sum()\n",
        "\n",
        "print(f\"Total Production Volumes: {total_production_volumes}\")\n",
        "print(f\"Total Stock Levels: {total_stock_levels}\")\n",
        "print(f\"Total Order Quantities: {total_order_quantities}\")\n",
        "\n",
        "summary_df = pd.DataFrame({\n",
        "    'Metric': ['Production Volumes', 'Stock Levels', 'Order Quantities'],\n",
        "    'Total': [total_production_volumes, total_stock_levels, total_order_quantities]\n",
        "})\n",
        "\n",
        "print(summary_df)"
      ],
      "metadata": {
        "execution": {
          "iopub.status.busy": "2024-06-15T12:52:29.617459Z",
          "iopub.execute_input": "2024-06-15T12:52:29.617875Z",
          "iopub.status.idle": "2024-06-15T12:52:29.629341Z",
          "shell.execute_reply.started": "2024-06-15T12:52:29.617843Z",
          "shell.execute_reply": "2024-06-15T12:52:29.627619Z"
        },
        "trusted": true,
        "id": "Gz7i5OJvSc6q"
      },
      "execution_count": null,
      "outputs": []
    },
    {
      "cell_type": "code",
      "source": [
        "fig = go.Figure()\n",
        "\n",
        "fig.add_trace(go.Scatterpolar(\n",
        "    r=[total_production_volumes, total_stock_levels, total_order_quantities],\n",
        "    theta=['Production Volumes', 'Stock Levels', 'Order Quantities'],\n",
        "    fill='toself',\n",
        "    name='Metrics',\n",
        "    line_color='green'\n",
        "))\n",
        "\n",
        "fig.update_layout(\n",
        "    title='Relationship between Production Volume, Stock Levels, and Order Quantities',\n",
        "    font=dict(size=14,color='white'),\n",
        "    polar=dict(\n",
        "        radialaxis=dict(\n",
        "            visible=True,\n",
        "            range=[0, max(total_production_volumes, total_stock_levels, total_order_quantities)],\n",
        "            color = 'green'\n",
        "        )\n",
        "    ),\n",
        "    showlegend=True,\n",
        "    plot_bgcolor='rgba(0, 0, 0, 0)',\n",
        "    paper_bgcolor='rgba(0, 0, 0, 0)',\n",
        ")\n",
        "\n",
        "fig.show()"
      ],
      "metadata": {
        "execution": {
          "iopub.status.busy": "2024-06-15T12:52:29.631096Z",
          "iopub.execute_input": "2024-06-15T12:52:29.631947Z",
          "iopub.status.idle": "2024-06-15T12:52:29.679858Z",
          "shell.execute_reply.started": "2024-06-15T12:52:29.6319Z",
          "shell.execute_reply": "2024-06-15T12:52:29.678667Z"
        },
        "trusted": true,
        "id": "o_aanPsbSc6r"
      },
      "execution_count": null,
      "outputs": []
    },
    {
      "cell_type": "code",
      "source": [
        "location_summary = df.groupby('Location').agg({'Production volumes': 'sum'}).reset_index()\n",
        "\n",
        "location_summary = location_summary.sort_values(by='Production volumes', ascending=False)\n",
        "\n",
        "fig = px.treemap(\n",
        "    location_summary,\n",
        "    path=['Location'],\n",
        "    values='Production volumes',\n",
        "    color='Production volumes',\n",
        "    color_continuous_scale='Viridis',\n",
        "    title='Production Volumes by Location'\n",
        ")\n",
        "\n",
        "fig.update_layout(\n",
        "    font=dict(size=14, color='White'),\n",
        "    plot_bgcolor='rgba(0, 0, 0, 0)',\n",
        "    paper_bgcolor='rgba(0, 0, 0, 0)',\n",
        ")\n",
        "\n",
        "fig.show()"
      ],
      "metadata": {
        "execution": {
          "iopub.status.busy": "2024-06-15T12:52:29.681302Z",
          "iopub.execute_input": "2024-06-15T12:52:29.681627Z",
          "iopub.status.idle": "2024-06-15T12:52:29.829752Z",
          "shell.execute_reply.started": "2024-06-15T12:52:29.681599Z",
          "shell.execute_reply": "2024-06-15T12:52:29.828558Z"
        },
        "trusted": true,
        "id": "R5I4mI-cSc6r"
      },
      "execution_count": null,
      "outputs": []
    },
    {
      "cell_type": "code",
      "source": [
        "location_summary = df.groupby('Location').agg({'Production volumes': 'sum'}).reset_index()\n",
        "\n",
        "total_production_volumes = location_summary['Production volumes'].sum()\n",
        "\n",
        "location_summary['Percentage'] = (location_summary['Production volumes'] / total_production_volumes) * 100\n",
        "\n",
        "location_summary = location_summary.sort_values(by='Production volumes', ascending=False)\n",
        "\n",
        "fig = px.pie(\n",
        "    location_summary,\n",
        "    names='Location',\n",
        "    values='Percentage',\n",
        "    title='Percentage of Production Volumes Aligned with Market Demands by Location',\n",
        "    color_discrete_sequence=px.colors.qualitative.Set3\n",
        ")\n",
        "\n",
        "fig.update_layout(\n",
        "    font=dict(size=14, color='white'),\n",
        "    plot_bgcolor='rgba(0, 0, 0, 0)',\n",
        "    paper_bgcolor='rgba(0, 0, 0, 0)',\n",
        ")\n",
        "fig.show()"
      ],
      "metadata": {
        "execution": {
          "iopub.status.busy": "2024-06-15T12:52:29.831123Z",
          "iopub.execute_input": "2024-06-15T12:52:29.831594Z",
          "iopub.status.idle": "2024-06-15T12:52:29.907041Z",
          "shell.execute_reply.started": "2024-06-15T12:52:29.831528Z",
          "shell.execute_reply": "2024-06-15T12:52:29.905779Z"
        },
        "trusted": true,
        "id": "qlaFHvf2Sc6s"
      },
      "execution_count": null,
      "outputs": []
    },
    {
      "cell_type": "code",
      "source": [
        "price_revenue_summary = df.groupby('Price').agg({'Revenue generated': 'sum'}).reset_index()\n",
        "\n",
        "fig = px.line(price_revenue_summary,\n",
        "              x='Price',\n",
        "              y='Revenue generated',\n",
        "              title='Revenue Generated by Price Range',\n",
        "              labels={'Revenue generated': 'Total Revenue ($)', 'Price Range': 'Price Range'},\n",
        "              markers=True)\n",
        "\n",
        "fig.update_layout(\n",
        "    font=dict(size=14, color='White'),\n",
        "    plot_bgcolor='rgba(0, 0, 0, 0)',\n",
        "    paper_bgcolor='rgba(0, 0, 0, 0)',\n",
        ")\n",
        "\n",
        "fig.show()"
      ],
      "metadata": {
        "execution": {
          "iopub.status.busy": "2024-06-15T12:52:29.908703Z",
          "iopub.execute_input": "2024-06-15T12:52:29.909163Z",
          "iopub.status.idle": "2024-06-15T12:52:30.002157Z",
          "shell.execute_reply.started": "2024-06-15T12:52:29.909121Z",
          "shell.execute_reply": "2024-06-15T12:52:30.000904Z"
        },
        "trusted": true,
        "id": "YyYM6OZcSc6s"
      },
      "execution_count": null,
      "outputs": []
    },
    {
      "cell_type": "code",
      "source": [
        "shipping_order_summary = df.groupby('Shipping costs').agg({'Order quantities': 'mean'}).reset_index()\n",
        "\n",
        "fig = px.bar(shipping_order_summary,\n",
        "             x='Shipping costs',\n",
        "             y='Order quantities',\n",
        "             title='Average Order Quantities by Shipping Cost Range',\n",
        "             labels={'Order quantities': 'Average Order Quantities', 'Shipping Cost Range': 'Shipping Cost Range'},\n",
        "             color='Shipping costs',\n",
        "             color_discrete_sequence=px.colors.qualitative.Bold)\n",
        "\n",
        "fig.update_layout(\n",
        "    font=dict(size=14, color='white'),\n",
        "    plot_bgcolor='rgba(0, 0, 0, 0)',\n",
        "    paper_bgcolor='rgba(0, 0, 0, 0)',\n",
        "    xaxis={'categoryorder': 'total descending'}\n",
        ")\n",
        "\n",
        "fig.show()"
      ],
      "metadata": {
        "execution": {
          "iopub.status.busy": "2024-06-15T12:52:30.003562Z",
          "iopub.execute_input": "2024-06-15T12:52:30.003888Z",
          "iopub.status.idle": "2024-06-15T12:52:30.095862Z",
          "shell.execute_reply.started": "2024-06-15T12:52:30.00386Z",
          "shell.execute_reply": "2024-06-15T12:52:30.094724Z"
        },
        "trusted": true,
        "id": "x3ag6Kk6Sc6t"
      },
      "execution_count": null,
      "outputs": []
    },
    {
      "cell_type": "code",
      "source": [
        "location_summary = df.groupby('Location').agg({'Production volumes': 'sum', 'Manufacturing costs': 'sum'}).reset_index()\n",
        "\n",
        "fig = px.scatter(location_summary,\n",
        "                 x='Production volumes',\n",
        "                 y='Manufacturing costs',\n",
        "                 color='Location',\n",
        "                 size='Production volumes',\n",
        "                 hover_name='Location',\n",
        "                 title='Relationship between Production Volumes and Manufacturing Costs by Location',\n",
        "                 labels={'Production volumes': 'Production Volumes', 'Manufacturing costs': 'Manufacturing Costs', 'Location': 'Location'},\n",
        "                 size_max=30)\n",
        "\n",
        "fig.update_layout(\n",
        "    font=dict(size=14, color='white'),\n",
        "    plot_bgcolor='rgba(0, 0, 0, 0)',\n",
        "    paper_bgcolor='rgba(0, 0, 0, 0)',\n",
        "    showlegend=True,\n",
        "    xaxis_title='Production Volumes',\n",
        "    yaxis_title='Manufacturing Costs'\n",
        ")\n",
        "\n",
        "fig.show()"
      ],
      "metadata": {
        "execution": {
          "iopub.status.busy": "2024-06-15T12:52:30.097153Z",
          "iopub.execute_input": "2024-06-15T12:52:30.097511Z",
          "iopub.status.idle": "2024-06-15T12:52:30.212909Z",
          "shell.execute_reply.started": "2024-06-15T12:52:30.09748Z",
          "shell.execute_reply": "2024-06-15T12:52:30.211599Z"
        },
        "trusted": true,
        "id": "BreNqBowSc6t"
      },
      "execution_count": null,
      "outputs": []
    },
    {
      "cell_type": "code",
      "source": [
        "transportation_summary = df.groupby('Transportation modes')['Shipping costs'].sum().reset_index()\n",
        "\n",
        "fig = px.bar(transportation_summary,\n",
        "             x='Transportation modes',\n",
        "             y='Shipping costs',\n",
        "             color='Transportation modes',\n",
        "             hover_name='Transportation modes',\n",
        "             title='Shipping Costs by Transportation Mode',\n",
        "             labels={'Shipping costs': 'Shipping Costs ($)', 'Transportation modes': 'Transportation Mode'},\n",
        "             color_discrete_sequence=px.colors.qualitative.Safe)\n",
        "\n",
        "fig.update_layout(\n",
        "    font=dict(size=14, color='White'),\n",
        "    plot_bgcolor='rgba(0, 0, 0, 0)',\n",
        "    paper_bgcolor='rgba(0, 0, 0, 0)',\n",
        "    xaxis_title='Transportation Modes',\n",
        "    yaxis_title='Shipping Costs ($)',\n",
        "    showlegend=True\n",
        ")\n",
        "\n",
        "fig.show()"
      ],
      "metadata": {
        "execution": {
          "iopub.status.busy": "2024-06-15T12:52:30.214345Z",
          "iopub.execute_input": "2024-06-15T12:52:30.214716Z",
          "iopub.status.idle": "2024-06-15T12:52:30.330491Z",
          "shell.execute_reply.started": "2024-06-15T12:52:30.214684Z",
          "shell.execute_reply": "2024-06-15T12:52:30.329124Z"
        },
        "trusted": true,
        "id": "Ksu_KeyISc6t"
      },
      "execution_count": null,
      "outputs": []
    },
    {
      "cell_type": "code",
      "source": [
        "production_summary = df.groupby('Production volumes')['Manufacturing costs'].sum().reset_index()\n",
        "\n",
        "fig = px.scatter(production_summary,\n",
        "                 x='Production volumes',\n",
        "                 y='Manufacturing costs',\n",
        "                 trendline='ols',\n",
        "                 title='Manufacturing Costs vs. Production Volumes',\n",
        "                 labels={'Manufacturing costs': 'Manufacturing Costs ($)', 'Production volumes': 'Production Volumes'},\n",
        "                 hover_name='Production volumes',\n",
        "                 trendline_color_override='red'\n",
        "                )\n",
        "\n",
        "fig.update_layout(\n",
        "    font=dict(size=14, color='white'),\n",
        "    plot_bgcolor='rgba(0, 0, 0, 0)',\n",
        "    paper_bgcolor='rgba(0, 0, 0, 0)',\n",
        "    xaxis_title='Production Volumes',\n",
        "    yaxis_title='Manufacturing Costs ($)',\n",
        "    showlegend=True\n",
        ")\n",
        "\n",
        "fig.show()"
      ],
      "metadata": {
        "execution": {
          "iopub.status.busy": "2024-06-15T12:52:30.332061Z",
          "iopub.execute_input": "2024-06-15T12:52:30.332456Z",
          "iopub.status.idle": "2024-06-15T12:52:32.906376Z",
          "shell.execute_reply.started": "2024-06-15T12:52:30.332421Z",
          "shell.execute_reply": "2024-06-15T12:52:32.905234Z"
        },
        "trusted": true,
        "id": "D_4BhR_BSc6u"
      },
      "execution_count": null,
      "outputs": []
    },
    {
      "cell_type": "code",
      "source": [
        "supplier_summary = df.groupby('Supplier name')['Manufacturing costs'].sum().reset_index()\n",
        "\n",
        "fig = px.bar(\n",
        "    supplier_summary,\n",
        "    x='Supplier name',\n",
        "    y='Manufacturing costs',\n",
        "    title='Distribution of Manufacturing Costs by Supplier',\n",
        "    labels={'Supplier name': 'Supplier Name', 'Manufacturing costs': 'Manufacturing Costs ($)'},\n",
        "    color='Supplier name',\n",
        "    color_discrete_sequence=px.colors.qualitative.Set3_r\n",
        ")\n",
        "\n",
        "fig.update_layout(\n",
        "    font=dict(size=14, color='White'),\n",
        "    plot_bgcolor='rgba(0, 0, 0, 0)',\n",
        "    paper_bgcolor='rgba(0, 0, 0, 0)',\n",
        "    xaxis={'categoryorder':'total descending'}\n",
        ")\n",
        "\n",
        "fig.show()"
      ],
      "metadata": {
        "execution": {
          "iopub.status.busy": "2024-06-15T12:52:32.908212Z",
          "iopub.execute_input": "2024-06-15T12:52:32.908803Z",
          "iopub.status.idle": "2024-06-15T12:52:33.023645Z",
          "shell.execute_reply.started": "2024-06-15T12:52:32.90877Z",
          "shell.execute_reply": "2024-06-15T12:52:33.02226Z"
        },
        "trusted": true,
        "id": "TEi__j1DSc6u"
      },
      "execution_count": null,
      "outputs": []
    },
    {
      "cell_type": "code",
      "source": [
        "shipping_summary = df.groupby('Shipping carriers')['Shipping costs'].sum().reset_index()\n",
        "\n",
        "fig = px.bar(\n",
        "    shipping_summary,\n",
        "    x='Shipping carriers',\n",
        "    y='Shipping costs',\n",
        "    title='Distribution of Shipping Costs by Shipping Carriers',\n",
        "    labels={'Shipping carriers': 'Shipping Carriers', 'Shipping costs': 'Shipping Costs ($)'},\n",
        "    color='Shipping carriers',\n",
        "    color_discrete_sequence=px.colors.qualitative.Set2\n",
        ")\n",
        "\n",
        "fig.update_layout(\n",
        "    font=dict(size=14, color='White'),\n",
        "    xaxis_title=None,\n",
        "    yaxis_title='Shipping Costs ($)',\n",
        "    plot_bgcolor='rgba(0, 0, 0, 0)',\n",
        "    paper_bgcolor='rgba(0, 0, 0, 0)',\n",
        ")\n",
        "\n",
        "fig.show()"
      ],
      "metadata": {
        "execution": {
          "iopub.status.busy": "2024-06-15T12:52:33.025011Z",
          "iopub.execute_input": "2024-06-15T12:52:33.025383Z",
          "iopub.status.idle": "2024-06-15T12:52:33.124224Z",
          "shell.execute_reply.started": "2024-06-15T12:52:33.025341Z",
          "shell.execute_reply": "2024-06-15T12:52:33.123032Z"
        },
        "trusted": true,
        "id": "-Kl7a7EJSc6u"
      },
      "execution_count": null,
      "outputs": []
    },
    {
      "cell_type": "code",
      "source": [
        "order_summary = df.groupby('Transportation modes')['Order quantities'].sum().reset_index()\n",
        "\n",
        "fig = px.sunburst(\n",
        "    order_summary,\n",
        "    path=['Transportation modes'],\n",
        "    values='Order quantities',\n",
        "    title='Total Order Quantities by Transportation Mode',\n",
        "    color='Order quantities',\n",
        "    color_continuous_scale=px.colors.sequential.Blues,\n",
        "    labels={'Transportation modes': 'Transportation Mode', 'Order quantities': 'Total Order Quantities'},\n",
        ")\n",
        "\n",
        "fig.update_layout(\n",
        "    font=dict(size=14, color='White'),\n",
        "    plot_bgcolor='rgba(0, 0, 0, 0)',\n",
        "    paper_bgcolor='rgba(0, 0, 0, 0)',\n",
        ")\n",
        "\n",
        "fig.show()"
      ],
      "metadata": {
        "execution": {
          "iopub.status.busy": "2024-06-15T12:52:33.125927Z",
          "iopub.execute_input": "2024-06-15T12:52:33.126382Z",
          "iopub.status.idle": "2024-06-15T12:52:33.228422Z",
          "shell.execute_reply.started": "2024-06-15T12:52:33.126341Z",
          "shell.execute_reply": "2024-06-15T12:52:33.227257Z"
        },
        "trusted": true,
        "id": "9M7a4NGxSc6v"
      },
      "execution_count": null,
      "outputs": []
    },
    {
      "cell_type": "code",
      "source": [
        "df['Total shipping costs'] = df['Number of products sold'] * df['Shipping costs']\n",
        "\n",
        "fig = px.scatter(df,\n",
        "                 x='Number of products sold',\n",
        "                 y='Total shipping costs',\n",
        "                 size='Price',\n",
        "                 color='Customer demographics',\n",
        "                 hover_name='SKU',\n",
        "                 title='Relationship between Number of Products Sold and Total Shipping Costs',\n",
        "                 labels={'Number of products sold': 'Number of Products Sold', 'Total shipping costs': 'Total Shipping Costs ($)', 'Customer demographics': 'Customer Segment'},\n",
        "                 template='plotly_dark'\n",
        "                )\n",
        "\n",
        "fig.update_traces(marker=dict(line=dict(width=1, color='DarkSlateGrey')),\n",
        "                  selector=dict(mode='markers'))\n",
        "\n",
        "fig.update_layout(\n",
        "    font=dict(size=14, color='white'),\n",
        "    plot_bgcolor='rgba(0, 0, 0, 0)',\n",
        "    paper_bgcolor='rgba(0, 0, 0, 0)',\n",
        ")\n",
        "\n",
        "fig.show()"
      ],
      "metadata": {
        "execution": {
          "iopub.status.busy": "2024-06-15T12:52:33.22988Z",
          "iopub.execute_input": "2024-06-15T12:52:33.23023Z",
          "iopub.status.idle": "2024-06-15T12:52:33.39555Z",
          "shell.execute_reply.started": "2024-06-15T12:52:33.23019Z",
          "shell.execute_reply": "2024-06-15T12:52:33.394269Z"
        },
        "trusted": true,
        "id": "Mnxg6If3Sc6w"
      },
      "execution_count": null,
      "outputs": []
    },
    {
      "cell_type": "code",
      "source": [
        "fig = px.scatter(df,\n",
        "                 x='Manufacturing costs',\n",
        "                 y='Revenue generated',\n",
        "                 size='Price',\n",
        "                 color='Product type',\n",
        "                 hover_name='SKU',\n",
        "                 title='Relationship between Manufacturing Costs and Revenue Generated',\n",
        "                 labels={'Manufacturing costs': 'Manufacturing Costs ($)', 'Revenue generated': 'Revenue Generated ($)', 'Product type': 'Product Type'},\n",
        "                 template='plotly_dark',\n",
        "                 color_discrete_sequence=px.colors.qualitative.Dark24\n",
        "                )\n",
        "\n",
        "fig.update_traces(marker=dict(line=dict(width=1, color='DarkSlateGrey')),\n",
        "                  selector=dict(mode='markers'))\n",
        "\n",
        "fig.update_layout(\n",
        "    font=dict(size=14, color='white'),\n",
        "    plot_bgcolor='rgba(0, 0, 0, 0)',\n",
        "    paper_bgcolor='rgba(0, 0, 0, 0)',\n",
        ")\n",
        "fig.show()"
      ],
      "metadata": {
        "execution": {
          "iopub.status.busy": "2024-06-15T12:52:33.397222Z",
          "iopub.execute_input": "2024-06-15T12:52:33.397795Z",
          "iopub.status.idle": "2024-06-15T12:52:33.507571Z",
          "shell.execute_reply.started": "2024-06-15T12:52:33.397756Z",
          "shell.execute_reply": "2024-06-15T12:52:33.506414Z"
        },
        "trusted": true,
        "id": "ayEve-eZSc6w"
      },
      "execution_count": null,
      "outputs": []
    },
    {
      "cell_type": "code",
      "source": [
        "numeric_columns = ['Shipping times', 'Lead times']\n",
        "\n",
        "transport_summary = df.groupby('Transportation modes')[numeric_columns].mean().reset_index()\n",
        "\n",
        "fig = px.line(transport_summary,\n",
        "              x='Shipping times',\n",
        "              y='Lead times',\n",
        "              color='Transportation modes',\n",
        "              title='Average Lead Times vs. Shipping Times by Transportation Mode',\n",
        "              labels={'Shipping times': 'Shipping Times (days)', 'Lead times': 'Lead Times (days)', 'Transportation modes': 'Transportation Mode'},\n",
        "              template='plotly_dark',\n",
        "              line_shape='spline'\n",
        "             )\n",
        "\n",
        "fig.update_traces(mode='lines+markers')\n",
        "\n",
        "fig.update_layout(\n",
        "    font=dict(size=14, color='white'),\n",
        "    plot_bgcolor='rgba(0, 0, 0, 0)',\n",
        "    paper_bgcolor='rgba(0, 0, 0, 0)',\n",
        ")\n",
        "\n",
        "fig.show()"
      ],
      "metadata": {
        "execution": {
          "iopub.status.busy": "2024-06-15T12:52:33.509082Z",
          "iopub.execute_input": "2024-06-15T12:52:33.509497Z",
          "iopub.status.idle": "2024-06-15T12:52:33.616331Z",
          "shell.execute_reply.started": "2024-06-15T12:52:33.509463Z",
          "shell.execute_reply": "2024-06-15T12:52:33.615083Z"
        },
        "trusted": true,
        "id": "1sqRG49SSc6x"
      },
      "execution_count": null,
      "outputs": []
    }
  ]
}